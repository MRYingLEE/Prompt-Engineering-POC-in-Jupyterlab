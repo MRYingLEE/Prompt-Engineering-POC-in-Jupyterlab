{
 "cells": [
  {
   "cell_type": "markdown",
   "id": "06934baa",
   "metadata": {},
   "source": [
    "# How to use the ChatJupyter\n",
    "\n",
    "This is a browser extension that brings ChatGPT **into** your Jupyter\n",
    "notebooks. The way I always describe Jupyter to my friends is that *it's a\n",
    "tool that handles the mundane task of writing things down for you*. When I saw\n",
    "ChatGPT, I thought that there was no better home for ChatGPT than inside my\n",
    "Jupyter notebooks.\n",
    "\n",
    "This extension will reuse an existing login session that you must first\n",
    "establish with [OpenAI's ChatGPT service](https://chat.openai.com/). If you\n",
    "aren't signed in already, or your session timed out, it will prompt you to\n",
    "sign in. \n",
    "\n",
    "It only works with the classic Jupyter notebook user interface. Help is\n",
    "welcome to make it work with JupyterLab. It works with both local Jupyter\n",
    "notebooks that you access via http://localhost or notebooks hosted on the\n",
    "public MyBinder service at https://mybinder.org. \n",
    "\n",
    "If you want it to work with Jupyter notebooks from a different URL, you'll\n",
    "need to edit the `manifest.json` file. It works by injecting script from the\n",
    "extension into the Jupyter notebook web page and asking the extension to use\n",
    "the bearer token obtained by logging into the Open AI service to communicate\n",
    "with the service; the browser extension effectively acts as a privileged\n",
    "proxy. \n",
    "\n",
    "This is the only reliable way that I've found to do this as OpenAI hasn't\n",
    "released an official API for the ChatGPT service. \n"
   ]
  },
  {
   "cell_type": "markdown",
   "id": "4e371f25",
   "metadata": {
    "chatgpt_cell": "query",
    "chatgpt_thread": ""
   },
   "source": [
    "## Prompt templates\n",
    "\n",
    "In this section, I'm going to include a few templates that I've been experimenting with.\n",
    "The way you can think about templates is that the extension will automatically prepend\n",
    "your chat query with the referenced prompt. \n",
    "\n",
    "### Hybrid chat session\n",
    "This is the main reason why I created this extension: to give ChatGPT access to a Jupyter\n",
    "kernel. ChatGPT is pretty bad at anything that requires precision and/or accuracy. The\n",
    "canonical example of this is arithmetic.\n",
    "\n",
    "In the following example, there are two cells. The first cell is the prompt *template*:\n",
    "\n",
    "```\n",
    "##### prompt:code\n",
    "In your reply, only return Python code. The Python code must be in a function. Don't describe what the function does. Don't provide comments in the function. Make sure that you write the call to the function, and print out the result of that call. In the print statement, provide a brief description of the result and the units of the result, if known.\n",
    "\n",
    "Write a Python program that:\n",
    "```\n",
    "\n",
    "The second cell contains the user prompt which also specifies which template to use: `code`.\n",
    "\n",
    "```\n",
    "##### chat\n",
    "/prompt:code\n",
    "\n",
    "What is 323239857 * 23492?\n",
    "```\n",
    "\n",
    "The content of the `code` template will appear before the user query `What is 323239857 * 23492?` in what is sent to ChatGPT."
   ]
  },
  {
   "cell_type": "markdown",
   "id": "91a2307a",
   "metadata": {},
   "source": [
    "##### prompt:code\n",
    "\n",
    "In your reply, only return Python code. The Python code must be in a function. Don't describe what the function does. Don't provide comments in the function. Make sure that you write the call to the function, and print out the result of that call. In the print statement, provide a brief description of the result and the units of the result, if known.\n",
    "\n",
    "Write a Python program that:\n"
   ]
  },
  {
   "cell_type": "markdown",
   "id": "45ff52cf",
   "metadata": {
    "chatgpt_cell": "query",
    "chatgpt_thread": ""
   },
   "source": [
    "##### chat\n",
    "/prompt:code\n",
    "/nochain\n",
    "\n",
    "What is 323239857 * 23492?"
   ]
  },
  {
   "cell_type": "markdown",
   "id": "c35b9266",
   "metadata": {},
   "source": [
    "##### response generated  by ChatGPT in 4 seconds at 1/7/2023 5:34:13 PM\n",
    "```python\n",
    "def multiply():\n",
    "    return 323239857 * 23492\n",
    "print(multiply())  # 758299835894\n",
    "```"
   ]
  },
  {
   "cell_type": "code",
   "execution_count": 39,
   "id": "863489f2",
   "metadata": {
    "chatgpt_cell": "code",
    "chatgpt_language": "python",
    "chatgpt_thread": ""
   },
   "outputs": [
    {
     "name": "stdout",
     "output_type": "stream",
     "text": [
      "7593550720644\n"
     ]
    }
   ],
   "source": [
    "def multiply():\n",
    "    return 323239857 * 23492\n",
    "print(multiply())  # 758299835894"
   ]
  },
  {
   "cell_type": "markdown",
   "id": "57de9d35",
   "metadata": {
    "chatgpt_cell": "query",
    "chatgpt_thread": ""
   },
   "source": [
    "##### chat\n",
    "/nochain\n",
    "What is 323239857 * 23492?"
   ]
  },
  {
   "cell_type": "markdown",
   "id": "7d0955cc",
   "metadata": {},
   "source": [
    "##### response generated  by ChatGPT in 2 seconds at 1/7/2023 5:34:43 PM\n",
    "\n",
    "323239857 * 23492 = 7562688553924"
   ]
  },
  {
   "cell_type": "markdown",
   "id": "b7aee744",
   "metadata": {},
   "source": [
    "## Calculations involving memorized facts\n",
    "The following examples require ChatGPT to lookup some memorized facts. All of the examples\n",
    "here are simple equations that can be looked up online. For some of these, it's always \n",
    "going to remember the right equation to use. For others, it's hit or miss with varying rates\n",
    "of success. \n",
    "\n",
    "The examples that I'm saving in the notebook will show a certain set of results to illustrate \n",
    "the point that I'm making. If you rerun those examples, you may get different results.\n",
    "\n",
    "The three responses to the question below were run at different times and produced different results. I wanted to use a width of 24 units and a distance of 28 units. You can see in the recalled equation that ChatGPT:\n",
    "\n",
    "- Uses two different methods to convert radians to degrees\n",
    "- Divides width by 2 in one case, and not in the other case\n",
    "\n",
    "Only in the final case did it generate a result that used the correct form of the equation.\n",
    "\n",
    "For reference, the correct equation[1] is:\n",
    "\n",
    "$visualAngle=2*atan(\\frac{(width/2)}{distance})*\\frac{180}{\\pi}$\n",
    "\n",
    "[1] https://elvers.us/perception/visualAngle/va.html"
   ]
  },
  {
   "cell_type": "markdown",
   "id": "986aa8d2",
   "metadata": {
    "chatgpt_cell": "query",
    "chatgpt_thread": ""
   },
   "source": [
    "##### chat\n",
    "/prompt:code \n",
    "/nochain\n",
    "\n",
    "Calculate the number of horizontal degrees that an object occupies in your field of view if you know the width of the object and its distance from you. Make sure you return the width in degrees. "
   ]
  },
  {
   "cell_type": "markdown",
   "id": "f7ccc72e",
   "metadata": {},
   "source": [
    "##### response generated  by ChatGPT in 8 seconds at 1/7/2023 5:39:34 PM\n",
    "```python\n",
    "def horizontal_degrees(width, distance):\n",
    "    import math\n",
    "    return math.degrees(math.atan(width / distance))\n",
    "print(horizontal_degrees(10, 50))  # Width of 10 at a distance of 50 is 14.0 degrees\n",
    "```"
   ]
  },
  {
   "cell_type": "code",
   "execution_count": 47,
   "id": "0fdfa2ba",
   "metadata": {
    "chatgpt_cell": "code",
    "chatgpt_language": "python",
    "chatgpt_thread": ""
   },
   "outputs": [
    {
     "name": "stdout",
     "output_type": "stream",
     "text": [
      "40.60129464500447\n"
     ]
    }
   ],
   "source": [
    "def horizontal_degrees(width, distance):\n",
    "    import math\n",
    "    return math.degrees(math.atan(width / distance))\n",
    "print(horizontal_degrees(24, 28)) "
   ]
  },
  {
   "cell_type": "markdown",
   "id": "5f6ba75f",
   "metadata": {},
   "source": [
    "##### response generated  by ChatGPT in 6 seconds at 1/7/2023 5:35:07 PM\n",
    "```python\n",
    "def horizontal_degrees(width, distance):\n",
    "    import math\n",
    "    return math.atan2(width / 2, distance) * 180 / math.pi\n",
    "print(horizontal_degrees(5, 10), \"degrees\")\n",
    "```"
   ]
  },
  {
   "cell_type": "code",
   "execution_count": 40,
   "id": "9ad4ff81",
   "metadata": {
    "chatgpt_cell": "code",
    "chatgpt_language": "python",
    "chatgpt_thread": ""
   },
   "outputs": [
    {
     "name": "stdout",
     "output_type": "stream",
     "text": [
      "23.19859051364819 degrees\n"
     ]
    }
   ],
   "source": [
    "def horizontal_degrees(width, distance):\n",
    "    import math\n",
    "    return math.atan2(width / 2, distance) * 180 / math.pi\n",
    "print(horizontal_degrees(24, 28), \"degrees\")"
   ]
  },
  {
   "cell_type": "markdown",
   "id": "291e103f",
   "metadata": {},
   "source": [
    "##### response generated  by ChatGPT in 7 seconds at 1/7/2023 4:51:04 PM\n",
    "```python\n",
    "def horizontal_degrees(width, distance):\n",
    "    return (2 * math.atan2(width / 2, distance)) * (180 / math.pi)\n",
    "print(horizontal_degrees(4, 100), \"degrees\")\n",
    "```"
   ]
  },
  {
   "cell_type": "code",
   "execution_count": 35,
   "id": "6194ef50",
   "metadata": {
    "chatgpt_cell": "code",
    "chatgpt_language": "python",
    "chatgpt_thread": ""
   },
   "outputs": [
    {
     "name": "stdout",
     "output_type": "stream",
     "text": [
      "46.39718102729638 degrees\n"
     ]
    }
   ],
   "source": [
    "def horizontal_degrees(width, distance):\n",
    "    return (2 * math.atan2(width / 2, distance)) * (180 / math.pi)\n",
    "print(horizontal_degrees(24, 28), \"degrees\")"
   ]
  },
  {
   "cell_type": "markdown",
   "id": "f6b2f8de",
   "metadata": {},
   "source": [
    "## A simpler equation: volume of a sphere\n",
    "\n",
    "In this case, I didn't notice ChatGPT getting this wrong. I suspect the reason for this is\n",
    "because there is no ambiguity in the volume of a sphere equation. I suspect it was trying\n",
    "to get fancy with the visual angle equation by trying to prematurely simplify it without \n",
    "a good understanding of the rules of algebraic simplification, or that it was trained on\n",
    "a number of examples where incorrect simplifications were present."
   ]
  },
  {
   "cell_type": "markdown",
   "id": "700206fe",
   "metadata": {
    "chatgpt_cell": "query",
    "chatgpt_thread": ""
   },
   "source": [
    "##### chat\n",
    "/prompt:code\n",
    "/nochain\n",
    "\n",
    "Calculate the volume of the planet earth."
   ]
  },
  {
   "cell_type": "markdown",
   "id": "fa5a0157",
   "metadata": {},
   "source": [
    "##### response generated  by ChatGPT in 13 seconds at 1/7/2023 5:56:43 PM\n",
    "```python\n",
    "def earth_volume():\n",
    "    radius = 6371  # in kilometers\n",
    "    volume = 4/3 * 3.14 * radius**3\n",
    "    return volume\n",
    "print(\"Earth volume:\", earth_volume(), \"km^3\")\n",
    "```"
   ]
  },
  {
   "cell_type": "code",
   "execution_count": 48,
   "id": "6be4b1ee",
   "metadata": {
    "chatgpt_cell": "code",
    "chatgpt_language": "python",
    "chatgpt_thread": ""
   },
   "outputs": [
    {
     "name": "stdout",
     "output_type": "stream",
     "text": [
      "Earth volume: 1082657777102.0533 km^3\n"
     ]
    }
   ],
   "source": [
    "def earth_volume():\n",
    "    radius = 6371  # in kilometers\n",
    "    volume = 4/3 * 3.14 * radius**3\n",
    "    return volume\n",
    "print(\"Earth volume:\", earth_volume(), \"km^3\")"
   ]
  },
  {
   "cell_type": "markdown",
   "id": "2bf6a66a",
   "metadata": {},
   "source": [
    "##### response generated  by ChatGPT in 8 seconds at 1/7/2023 4:52:29 PM\n",
    "```python\n",
    "def earth_volume():\n",
    "  diameter = 12_742_000\n",
    "  radius = diameter / 2\n",
    "  volume = 4/3 * 3.14 * radius**3\n",
    "  return volume\n",
    "print(f\"The volume of Earth is {earth_volume()} cubic meters\")\n",
    "```"
   ]
  },
  {
   "cell_type": "code",
   "execution_count": 49,
   "id": "76529af9",
   "metadata": {
    "chatgpt_cell": "code",
    "chatgpt_language": "python",
    "chatgpt_thread": ""
   },
   "outputs": [
    {
     "name": "stdout",
     "output_type": "stream",
     "text": [
      "The volume of Earth is 1.0826577771020533e+21 cubic meters\n"
     ]
    }
   ],
   "source": [
    "def earth_volume():\n",
    "  diameter = 12_742_000\n",
    "  radius = diameter / 2\n",
    "  volume = 4/3 * 3.14 * radius**3\n",
    "  return volume\n",
    "print(f\"The volume of Earth is {earth_volume()} cubic meters\")"
   ]
  },
  {
   "cell_type": "markdown",
   "id": "64b8e637",
   "metadata": {},
   "source": [
    "## Simple word problems involving a simple equation\n",
    "ChatGPT also does quite well on simple word problems that involve plugging values into a simple equation."
   ]
  },
  {
   "cell_type": "markdown",
   "id": "187d85f4",
   "metadata": {
    "chatgpt_cell": "query",
    "chatgpt_thread": ""
   },
   "source": [
    "##### chat\n",
    "/prompt:code\n",
    "/nochain\n",
    "\n",
    "On his day off, Lee took a trip to the zoo. He drove an average speed of 65mph and it took him 2.5 hours to get from his house to the zoo. How far is the zoo from his house?"
   ]
  },
  {
   "cell_type": "markdown",
   "id": "fdf29bff",
   "metadata": {},
   "source": [
    "##### response generated  by ChatGPT in 5 seconds at 1/7/2023 5:57:58 PM\n",
    "```python\n",
    "def distance_from_house(avg_speed, time):\n",
    "    return avg_speed * time\n",
    "print(distance_from_house(65, 2.5), \"miles\")\n",
    "```"
   ]
  },
  {
   "cell_type": "code",
   "execution_count": 50,
   "id": "89ba8c3c",
   "metadata": {
    "chatgpt_cell": "code",
    "chatgpt_language": "python",
    "chatgpt_thread": ""
   },
   "outputs": [
    {
     "name": "stdout",
     "output_type": "stream",
     "text": [
      "162.5 miles\n"
     ]
    }
   ],
   "source": [
    "def distance_from_house(avg_speed, time):\n",
    "    return avg_speed * time\n",
    "print(distance_from_house(65, 2.5), \"miles\")"
   ]
  },
  {
   "cell_type": "markdown",
   "id": "3140a701",
   "metadata": {},
   "source": [
    "##### response generated  by ChatGPT in 5 seconds at 1/7/2023 4:53:08 PM\n",
    "```python\n",
    "def distance_to_zoo(speed, time):\n",
    "    return speed * time\n",
    "print(distance_to_zoo(65, 2.5), \"miles\")\n",
    "```"
   ]
  },
  {
   "cell_type": "code",
   "execution_count": 37,
   "id": "c0cbe367",
   "metadata": {
    "chatgpt_cell": "code",
    "chatgpt_language": "python",
    "chatgpt_thread": ""
   },
   "outputs": [
    {
     "name": "stdout",
     "output_type": "stream",
     "text": [
      "162.5 miles\n"
     ]
    }
   ],
   "source": [
    "def distance_to_zoo(speed, time):\n",
    "    return speed * time\n",
    "print(distance_to_zoo(65, 2.5), \"miles\")"
   ]
  },
  {
   "cell_type": "markdown",
   "id": "ac94412b",
   "metadata": {
    "chatgpt_cell": "query",
    "chatgpt_thread": ""
   },
   "source": [
    "##### chat\n",
    "/prompt:code\n",
    "/nochain\n",
    "\n",
    "Bill took a trip to see a friend. His friend lives 225 miles away. He drove in town at an average of 30 mph, then he drove on the interstate at an average of 70 mph. The trip took three-and-a-half hours total. How far did Bill drive on the interstate?"
   ]
  },
  {
   "cell_type": "markdown",
   "id": "e77acc0c",
   "metadata": {},
   "source": [
    "##### response generated  by ChatGPT in 9 seconds at 1/7/2023 3:07:55 PM\n",
    "```python\n",
    "def distance_driven(total_distance, total_time, town_speed, interstate_speed):\n",
    "  town_time = total_time / 2\n",
    "  town_distance = town_time * town_speed\n",
    "  interstate_distance = total_distance - town_distance\n",
    "  return interstate_distance\n",
    "print(distance_driven(225, 3.5, 30, 70))\n",
    "```"
   ]
  },
  {
   "cell_type": "code",
   "execution_count": 23,
   "id": "78f70797",
   "metadata": {
    "chatgpt_cell": "code",
    "chatgpt_language": "python",
    "chatgpt_thread": ""
   },
   "outputs": [
    {
     "name": "stdout",
     "output_type": "stream",
     "text": [
      "172.5\n"
     ]
    }
   ],
   "source": [
    "def distance_driven(total_distance, total_time, town_speed, interstate_speed):\n",
    "  town_time = total_time / 2\n",
    "  town_distance = town_time * town_speed\n",
    "  interstate_distance = total_distance - town_distance\n",
    "  return interstate_distance\n",
    "print(distance_driven(225, 3.5, 30, 70))"
   ]
  },
  {
   "cell_type": "markdown",
   "id": "3701bd0e",
   "metadata": {},
   "source": [
    "##### prompt:chemistry\n",
    "\n",
    "In your reply, only return Python code. Make sure you define all constants and their units in the Python program. Do not return any explanatory text, return only the program. If you generate a function, make sure you write the call to that function as well and print out the result of calling that function to the console and some text explaining what the value that you printed is. Write a Python program that:"
   ]
  },
  {
   "cell_type": "markdown",
   "id": "3671f7de",
   "metadata": {
    "chatgpt_cell": "query",
    "chatgpt_thread": ""
   },
   "source": [
    "##### chat\n",
    "/prompt:chemistry\n",
    "/nochain\n",
    "\n",
    "Determine the volume, in liters, occupied by 2.34 grams of carbon dioxide gas at STP."
   ]
  },
  {
   "cell_type": "markdown",
   "id": "e191d616",
   "metadata": {},
   "source": [
    "##### response generated  by ChatGPT in 15 seconds at 1/7/2023 3:26:06 PM\n",
    "```python\n",
    "def volume_of_gas_at_stp(mass: float, molar_mass: float, temperature: float, pressure: float) -> float:\n",
    "    R = 8.31 # J/mol*K\n",
    "    return (mass * R * temperature) / (pressure * molar_mass)\n",
    "print(volume_of_gas_at_stp(mass=2.34, molar_mass=44.01, temperature=273.15, pressure=101325))\n",
    "# Output: 0.004438113615333737 liters\n",
    "```"
   ]
  },
  {
   "cell_type": "code",
   "execution_count": 30,
   "id": "a48013a6",
   "metadata": {
    "chatgpt_cell": "code",
    "chatgpt_language": "python",
    "chatgpt_thread": ""
   },
   "outputs": [
    {
     "name": "stdout",
     "output_type": "stream",
     "text": [
      "0.0011911051572795427\n"
     ]
    }
   ],
   "source": [
    "def volume_of_gas_at_stp(mass: float, molar_mass: float, temperature: float, pressure: float) -> float:\n",
    "    R = 8.31 # J/mol*K\n",
    "    return (mass * R * temperature) / (pressure * molar_mass)\n",
    "print(volume_of_gas_at_stp(mass=2.34, molar_mass=44.01, temperature=273.15, pressure=101325))\n",
    "# Output: 0.004438113615333737 liters"
   ]
  },
  {
   "cell_type": "markdown",
   "id": "62bf87b8",
   "metadata": {},
   "source": [
    "##### response generated  by ChatGPT in 18 seconds at 1/7/2023 3:19:00 PM\n",
    "```python\n",
    "AVOGADRO_CONSTANT = 6.02214076 * 10**23\n",
    "MOLAR_MASS_CO2 = 44.01\n",
    "def volume_of_gas(mass, molar_mass, pressure, temperature):\n",
    "  volume = mass / (molar_mass * pressure * temperature)\n",
    "  return volume\n",
    "pressure = 101.325 # kPa\n",
    "temperature = 273.15 # K\n",
    "volume = volume_of_gas(2.34, MOLAR_MASS_CO2, pressure, temperature)\n",
    "volume_in_liters = volume / 1000\n",
    "print(volume_in_liters)\n",
    "```"
   ]
  },
  {
   "cell_type": "code",
   "execution_count": 28,
   "id": "25d31d19",
   "metadata": {
    "chatgpt_cell": "code",
    "chatgpt_language": "python",
    "chatgpt_thread": ""
   },
   "outputs": [
    {
     "name": "stdout",
     "output_type": "stream",
     "text": [
      "1.921085400660875e-09\n"
     ]
    }
   ],
   "source": [
    "AVOGADRO_CONSTANT = 6.02214076 * 10**23\n",
    "MOLAR_MASS_CO2 = 44.01\n",
    "def volume_of_gas(mass, molar_mass, pressure, temperature):\n",
    "  volume = mass / (molar_mass * pressure * temperature)\n",
    "  return volume\n",
    "pressure = 101.325 # kPa\n",
    "temperature = 273.15 # K\n",
    "volume = volume_of_gas(2.34, MOLAR_MASS_CO2, pressure, temperature)\n",
    "volume_in_liters = volume / 1000\n",
    "print(volume_in_liters)"
   ]
  },
  {
   "cell_type": "markdown",
   "id": "4cfc0c29",
   "metadata": {},
   "source": [
    "##### response generated  by ChatGPT in 7 seconds at 1/4/2023 8:20:33 PM\n",
    "```python\n",
    "def volume_of_gas(grams, gas):\n",
    "    molar_mass = 44.01 if gas == 'CO2' else 0\n",
    "    return (grams / molar_mass) * 22.4\n",
    "print(volume_of_gas(2.34, 'CO2'))\n",
    "```"
   ]
  },
  {
   "cell_type": "code",
   "execution_count": 1,
   "id": "c233f1cf",
   "metadata": {
    "chatgpt_cell": "code",
    "chatgpt_language": "python",
    "chatgpt_thread": ""
   },
   "outputs": [
    {
     "name": "stdout",
     "output_type": "stream",
     "text": [
      "1.191002044989775\n"
     ]
    }
   ],
   "source": [
    "def volume_of_gas(grams, gas):\n",
    "    molar_mass = 44.01 if gas == 'CO2' else 0\n",
    "    return (grams / molar_mass) * 22.4\n",
    "print(volume_of_gas(2.34, 'CO2'))"
   ]
  },
  {
   "cell_type": "markdown",
   "id": "4124705d",
   "metadata": {},
   "source": [
    "##### response generated  by ChatGPT in 18 seconds at 1/4/2023 8:15:36 PM\n",
    "```python\n",
    "def volume_of_co2_at_stp(mass):\n",
    "    MOLAR_MASS_OF_CO2 = 44.01 # g/mol\n",
    "    NUMBER_OF_MOLECULES_IN_A_MOLE = 6.02214076e23 # molecules/mol\n",
    "    VOLUME_AT_STP = 22.4 # L/mol\n",
    "    moles = mass / MOLAR_MASS_OF_CO2\n",
    "    molecules = moles * NUMBER_OF_MOLECULES_IN_A_MOLE\n",
    "    volume = molecules * VOLUME_AT_STP / NUMBER_OF_MOLECULES_IN_A_MOLE\n",
    "    return volume\n",
    "print(volume_of_co2_at_stp(2.34))\n",
    "```"
   ]
  },
  {
   "cell_type": "code",
   "execution_count": 27,
   "id": "5726df56",
   "metadata": {
    "chatgpt_cell": "code",
    "chatgpt_language": "python",
    "chatgpt_thread": ""
   },
   "outputs": [
    {
     "name": "stdout",
     "output_type": "stream",
     "text": [
      "1.1910020449897751\n"
     ]
    }
   ],
   "source": [
    "def volume_of_co2_at_stp(mass):\n",
    "    MOLAR_MASS_OF_CO2 = 44.01 # g/mol\n",
    "    NUMBER_OF_MOLECULES_IN_A_MOLE = 6.02214076e23 # molecules/mol\n",
    "    VOLUME_AT_STP = 22.4 # L/mol\n",
    "    moles = mass / MOLAR_MASS_OF_CO2\n",
    "    molecules = moles * NUMBER_OF_MOLECULES_IN_A_MOLE\n",
    "    volume = molecules * VOLUME_AT_STP / NUMBER_OF_MOLECULES_IN_A_MOLE\n",
    "    return volume\n",
    "print(volume_of_co2_at_stp(2.34))"
   ]
  },
  {
   "cell_type": "markdown",
   "id": "c9865a69",
   "metadata": {
    "chatgpt_cell": "query",
    "chatgpt_thread": ""
   },
   "source": [
    "##### chat\n",
    "/prompt:chemistry\n",
    "/nochain\n",
    "\n",
    "Determine the number of moles of argon and the mass of argon in a sample of argon gas at STP that occupies 56.2 liters. "
   ]
  },
  {
   "cell_type": "markdown",
   "id": "8d4d9832",
   "metadata": {},
   "source": [
    "##### response generated  by ChatGPT in 18 seconds at 1/7/2023 3:23:32 PM\n",
    "```python\n",
    "AVOGADRO_CONSTANT = 6.02214076e23  # atoms/mol\n",
    "ARGON_MOLAR_MASS = 39.948  # g/mol\n",
    "def moles_and_mass_of_argon(volume, molar_mass, avogadro_constant):\n",
    "  moles = (volume * avogadro_constant) / molar_mass\n",
    "  mass = moles * molar_mass\n",
    "  return moles, mass\n",
    "moles, mass = moles_and_mass_of_argon(56.2, ARGON_MOLAR_MASS, AVOGADRO_CONSTANT)\n",
    "print(moles)\n",
    "print(mass)\n",
    "```"
   ]
  },
  {
   "cell_type": "code",
   "execution_count": 29,
   "id": "24fa96fc",
   "metadata": {
    "chatgpt_cell": "code",
    "chatgpt_language": "python",
    "chatgpt_thread": ""
   },
   "outputs": [
    {
     "name": "stdout",
     "output_type": "stream",
     "text": [
      "8.47212152578352e+23\n",
      "3.3844431071200007e+25\n"
     ]
    }
   ],
   "source": [
    "AVOGADRO_CONSTANT = 6.02214076e23  # atoms/mol\n",
    "ARGON_MOLAR_MASS = 39.948  # g/mol\n",
    "def moles_and_mass_of_argon(volume, molar_mass, avogadro_constant):\n",
    "  moles = (volume * avogadro_constant) / molar_mass\n",
    "  mass = moles * molar_mass\n",
    "  return moles, mass\n",
    "moles, mass = moles_and_mass_of_argon(56.2, ARGON_MOLAR_MASS, AVOGADRO_CONSTANT)\n",
    "print(moles)\n",
    "print(mass)"
   ]
  },
  {
   "cell_type": "markdown",
   "id": "75af6dd5",
   "metadata": {
    "chatgpt_cell": "query",
    "chatgpt_language": "python",
    "chatgpt_thread": ""
   },
   "source": [
    "##### chat\n",
    "\n",
    "In your reply, only return Python code. Don't provide descriptions or comments. If you generate a function, make sure you write the call to that function as well and print out the result of calling that function to the console. Write a Python program that solves:\n",
    "\n",
    "A 30.6 g sample of gas occupies 22.414 L at STP. What is the molecular weight of this gas?"
   ]
  },
  {
   "cell_type": "markdown",
   "id": "e66ac754",
   "metadata": {},
   "source": [
    "##### response generated  by ChatGPT in 20 seconds at 1/4/2023 8:22:59 PM\n",
    "```python\n",
    "def volume_of_co2_at_stp(mass):\n",
    "    MOLAR_MASS_OF_CO2 = 44.01 # g/mol\n",
    "    NUMBER_OF_MOLECULES_IN_A_MOLE = 6.02214076e23 # molecules/mol\n",
    "    AVOGADRO_CONSTANT = NUMBER_OF_MOLECULES_IN_A_MOLE # mol^-1\n",
    "    VOLUME_OF_STANDARD_TEMPERATURE_AND_PRESSURE = 22.4 # liters\n",
    "    moles_of_co2 = mass / MOLAR_MASS_OF_CO2\n",
    "    return moles_of_co2 * VOLUME_OF_STANDARD_TEMPERATURE_AND_PRESSURE * AVOGADRO_CONSTANT\n",
    "print(volume_of_co2_at_stp(2.34))\n",
    "```"
   ]
  },
  {
   "cell_type": "code",
   "execution_count": 8,
   "id": "8bc7d89a",
   "metadata": {
    "chatgpt_cell": "code",
    "chatgpt_language": "python",
    "chatgpt_thread": ""
   },
   "outputs": [
    {
     "name": "stdout",
     "output_type": "stream",
     "text": [
      "7.172381960376277e+23\n"
     ]
    }
   ],
   "source": [
    "#%%capture output\n",
    "def volume_of_co2_at_stp(mass):\n",
    "    MOLAR_MASS_OF_CO2 = 44.01 # g/mol\n",
    "    NUMBER_OF_MOLECULES_IN_A_MOLE = 6.02214076e23 # molecules/mol\n",
    "    AVOGADRO_CONSTANT = NUMBER_OF_MOLECULES_IN_A_MOLE # mol^-1\n",
    "    VOLUME_OF_STANDARD_TEMPERATURE_AND_PRESSURE = 22.4 # liters\n",
    "    moles_of_co2 = mass / MOLAR_MASS_OF_CO2\n",
    "    return moles_of_co2 * VOLUME_OF_STANDARD_TEMPERATURE_AND_PRESSURE * AVOGADRO_CONSTANT\n",
    "print(volume_of_co2_at_stp(2.34))"
   ]
  }
 ],
 "metadata": {
  "kernelspec": {
   "display_name": "Python (py310)",
   "language": "python",
   "name": "py310"
  },
  "language_info": {
   "codemirror_mode": {
    "name": "ipython",
    "version": 3
   },
   "file_extension": ".py",
   "mimetype": "text/x-python",
   "name": "python",
   "nbconvert_exporter": "python",
   "pygments_lexer": "ipython3",
   "version": "3.10.0"
  }
 },
 "nbformat": 4,
 "nbformat_minor": 5
}
